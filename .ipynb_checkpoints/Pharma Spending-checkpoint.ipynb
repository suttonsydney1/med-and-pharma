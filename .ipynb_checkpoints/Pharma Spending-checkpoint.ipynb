{
 "cells": [
  {
   "cell_type": "markdown",
   "id": "e38882d1",
   "metadata": {},
   "source": [
    "Pharmaceutical drug spending by countries. Data from https://datahub.io/core/pharmaceutical-drug-spending and https://data.oecd.org/healthres/pharmaceutical-spending.htm.\n",
    "\n",
    "Total pharmaceutical spending refers in most countries to “net” spending i.e. adjusted for possible rebates payable by manufacturers, wholesalers or pharmacies. This indicator is measured as a share of total health spending, in USD per capita (using economy-wide PPPs) and as a share of GDP. Pharmaceuticals consumed in hospitals and other health care settings are excluded. "
   ]
  },
  {
   "cell_type": "code",
   "execution_count": null,
   "id": "b35933d6",
   "metadata": {},
   "outputs": [
    {
     "name": "stdout",
     "output_type": "stream",
     "text": [
      "\n",
      "  There is a binary version available but the source version is later:\n",
      "       binary source needs_compilation\n",
      "plotly  4.9.3 4.10.1             FALSE\n",
      "\n"
     ]
    },
    {
     "name": "stderr",
     "output_type": "stream",
     "text": [
      "installing the source package 'plotly'\n",
      "\n"
     ]
    }
   ],
   "source": [
    "install.packages(\"plotly\")"
   ]
  },
  {
   "cell_type": "code",
   "execution_count": null,
   "id": "a8537e5e",
   "metadata": {},
   "outputs": [],
   "source": [
    "library(dplyr)\n",
    "library(plotly)\n",
    "library(ggplot2)\n",
    "library(lubridate)"
   ]
  },
  {
   "cell_type": "markdown",
   "id": "930bebde",
   "metadata": {},
   "source": [
    "## Data Import"
   ]
  },
  {
   "cell_type": "code",
   "execution_count": null,
   "id": "485582cf",
   "metadata": {},
   "outputs": [],
   "source": [
    "df <- read.csv(\"C:/Users/Sydney/Desktop/pharmaspending.csv\")"
   ]
  },
  {
   "cell_type": "code",
   "execution_count": null,
   "id": "b64bc5bd",
   "metadata": {},
   "outputs": [],
   "source": [
    "head(df)"
   ]
  },
  {
   "cell_type": "markdown",
   "id": "cf904943",
   "metadata": {},
   "source": [
    "## Data Exploration and Cleaning"
   ]
  },
  {
   "cell_type": "code",
   "execution_count": null,
   "id": "24cbdaf6",
   "metadata": {},
   "outputs": [],
   "source": [
    "unique(df$FLAG_CODES)"
   ]
  },
  {
   "cell_type": "code",
   "execution_count": null,
   "id": "21b61a00",
   "metadata": {},
   "outputs": [],
   "source": [
    "#check NA values\n",
    "colSums(is.na(df))"
   ]
  },
  {
   "cell_type": "code",
   "execution_count": null,
   "id": "e791ae4c",
   "metadata": {},
   "outputs": [],
   "source": [
    "str(df)"
   ]
  },
  {
   "cell_type": "code",
   "execution_count": null,
   "id": "4ecdc230",
   "metadata": {},
   "outputs": [],
   "source": [
    "#ensure no obvious outliers\n",
    "summary(df)"
   ]
  },
  {
   "cell_type": "markdown",
   "id": "5f4ada59",
   "metadata": {},
   "source": [
    "## Data Summaries"
   ]
  },
  {
   "cell_type": "markdown",
   "id": "2961c6e1",
   "metadata": {},
   "source": [
    "% in HC Expenditure by country over time - graph this\n",
    "Total spend by country per year over time - graph this\n"
   ]
  },
  {
   "cell_type": "code",
   "execution_count": null,
   "id": "e57c8a78",
   "metadata": {},
   "outputs": [],
   "source": [
    "#find and compare average v median spend \n",
    "hce_cntry_ave_spnd <- df %>%\n",
    "select(LOCATION, TOTAL_SPEND) %>%\n",
    "group_by(LOCATION) %>%\n",
    "summarize(AVE_SPEND = mean(TOTAL_SPEND))\n",
    "\n",
    "\n",
    "hce_cntry_med_spnd <- df %>%\n",
    "select(LOCATION, TOTAL_SPEND) %>%\n",
    "group_by(LOCATION) %>%\n",
    "summarize(MED_SPEND = median(TOTAL_SPEND))\n",
    "\n",
    "hce_cntry_spnd <- merge(hce_cntry_ave_spnd, hce_cntry_med_spnd, by='LOCATION')"
   ]
  },
  {
   "cell_type": "code",
   "execution_count": null,
   "id": "a4e8a168",
   "metadata": {},
   "outputs": [],
   "source": [
    "# graph average and median spend for easy comparison\n",
    "hce_cntry_spnd_g <- ggplot(hce_cntry_spnd, aes(LOCATION)) + \n",
    "    geom_point(aes(y=AVE_SPEND),color='slateblue4') + \n",
    "    geom_point(aes(y=MED_SPEND), color='deeppink1') +\n",
    "    geom_segment(aes(y = MED_SPEND, yend = AVE_SPEND, xend = LOCATION)) +\n",
    "    xlab('Country') + ylab('Total Healthcare Spend') +\n",
    "    theme_bw() +  scale_y_log10() +\n",
    "    labs(title = 'Average v. Median Healthcare Spend by Country',\n",
    "         subtitle = \"1970-2016. Total Spend in Millions.\",\n",
    "         caption = \"Dates not all inclusive. Note y axis log10 scale.\",\n",
    "         color=\"legend\") +\n",
    "    theme(axis.text.x = element_text(angle = 45, hjust=1)) +\n",
    "    theme(plot.title = element_text(hjust = 0.5), plot.subtitle = element_text(hjust = 0.5)) \n",
    "\n",
    "hce_cntry_spnd_g"
   ]
  },
  {
   "cell_type": "code",
   "execution_count": null,
   "id": "2b984158",
   "metadata": {},
   "outputs": [],
   "source": [
    "#find and compare average v median % of GDP\n",
    "hce_cntry_ave_gdp <- df %>%\n",
    "select(LOCATION, PC_GDP) %>%\n",
    "group_by(LOCATION) %>%\n",
    "summarize(AVE_GDP = mean(PC_GDP))\n",
    "\n",
    "\n",
    "hce_cntry_med_gdp <- df %>%\n",
    "select(LOCATION, PC_GDP) %>%\n",
    "group_by(LOCATION) %>%\n",
    "summarize(MED_GDP = median(PC_GDP))\n",
    "\n",
    "hce_cntry_gdp <- merge(hce_cntry_ave_gdp, hce_cntry_med_gdp, by='LOCATION') "
   ]
  },
  {
   "cell_type": "code",
   "execution_count": null,
   "id": "a2645e77",
   "metadata": {},
   "outputs": [],
   "source": [
    "# graph average and median spend for easy comparison\n",
    "hce_cntry_gdp_g <- ggplot(hce_cntry_gdp, aes(LOCATION)) + \n",
    "    geom_point(aes(y=AVE_GDP),color='slateblue4') + \n",
    "    geom_point(aes(y=MED_GDP), color='deeppink1') +\n",
    "    geom_segment(aes(y = MED_GDP, yend = AVE_GDP, xend = LOCATION)) +\n",
    "    xlab('Country') + ylab('Healthcare Expenditure as a % of GDP') +\n",
    "    theme_bw() +  scale_y_log10() +\n",
    "    labs(title = 'Average v. Median Healthcare Expenditure as a % of GDP',\n",
    "         subtitle = \"1970-2016. Total Spend in Millions.\",\n",
    "         caption = \"Dates not all inclusive. Note y axis log10 scale.\",\n",
    "         color=\"legend\") +\n",
    "    theme(axis.text.x = element_text(angle = 45, hjust=1)) +\n",
    "    theme(plot.title = element_text(hjust = 0.5), plot.subtitle = element_text(hjust = 0.5)) \n",
    "\n",
    "hce_cntry_gdp_g"
   ]
  },
  {
   "cell_type": "code",
   "execution_count": null,
   "id": "d52d9d71",
   "metadata": {},
   "outputs": [],
   "source": [
    "head(df)"
   ]
  },
  {
   "cell_type": "code",
   "execution_count": null,
   "id": "078880e6",
   "metadata": {},
   "outputs": [],
   "source": [
    "cntry_gdp_plot <- ggplot(df, aes(x=TIME, y=PC_GDP, color=LOCATION)) + geom_point() + theme_bw() + \n",
    "    xlab('Year') + ylab('Percent of GDP') + ggtitle('Percent of GDP per Year by Country')\n",
    "\n",
    "ggplotly(cntry_gdp_plot)"
   ]
  },
  {
   "cell_type": "code",
   "execution_count": null,
   "id": "ba724c47",
   "metadata": {},
   "outputs": [],
   "source": []
  }
 ],
 "metadata": {
  "kernelspec": {
   "display_name": "R",
   "language": "R",
   "name": "ir"
  },
  "language_info": {
   "codemirror_mode": "r",
   "file_extension": ".r",
   "mimetype": "text/x-r-source",
   "name": "R",
   "pygments_lexer": "r",
   "version": "3.6.1"
  }
 },
 "nbformat": 4,
 "nbformat_minor": 5
}
